{
 "cells": [
  {
   "cell_type": "code",
   "execution_count": 1,
   "id": "c93cccca",
   "metadata": {},
   "outputs": [
    {
     "name": "stdout",
     "output_type": "stream",
     "text": [
      "<class 'pandas.core.frame.DataFrame'>\n",
      "RangeIndex: 569 entries, 0 to 568\n",
      "Data columns (total 32 columns):\n",
      " #   Column                   Non-Null Count  Dtype  \n",
      "---  ------                   --------------  -----  \n",
      " 0   id                       569 non-null    int64  \n",
      " 1   diagnosis                569 non-null    object \n",
      " 2   radius_mean              569 non-null    float64\n",
      " 3   texture_mean             569 non-null    float64\n",
      " 4   perimeter_mean           569 non-null    float64\n",
      " 5   area_mean                569 non-null    float64\n",
      " 6   smoothness_mean          569 non-null    float64\n",
      " 7   compactness_mean         569 non-null    float64\n",
      " 8   concavity_mean           569 non-null    float64\n",
      " 9   concave points_mean      569 non-null    float64\n",
      " 10  symmetry_mean            569 non-null    float64\n",
      " 11  fractal_dimension_mean   569 non-null    float64\n",
      " 12  radius_se                569 non-null    float64\n",
      " 13  texture_se               569 non-null    float64\n",
      " 14  perimeter_se             569 non-null    float64\n",
      " 15  area_se                  569 non-null    float64\n",
      " 16  smoothness_se            569 non-null    float64\n",
      " 17  compactness_se           569 non-null    float64\n",
      " 18  concavity_se             569 non-null    float64\n",
      " 19  concave points_se        569 non-null    float64\n",
      " 20  symmetry_se              569 non-null    float64\n",
      " 21  fractal_dimension_se     569 non-null    float64\n",
      " 22  radius_worst             569 non-null    float64\n",
      " 23  texture_worst            569 non-null    float64\n",
      " 24  perimeter_worst          569 non-null    float64\n",
      " 25  area_worst               569 non-null    float64\n",
      " 26  smoothness_worst         569 non-null    float64\n",
      " 27  compactness_worst        569 non-null    float64\n",
      " 28  concavity_worst          569 non-null    float64\n",
      " 29  concave points_worst     569 non-null    float64\n",
      " 30  symmetry_worst           569 non-null    float64\n",
      " 31  fractal_dimension_worst  569 non-null    float64\n",
      "dtypes: float64(30), int64(1), object(1)\n",
      "memory usage: 142.4+ KB\n"
     ]
    }
   ],
   "source": [
    "import numpy as np\n",
    "import pandas as pd\n",
    "import seaborn as sn\n",
    "import matplotlib.pyplot as plt\n",
    "import math\n",
    "from sklearn.model_selection import train_test_split\n",
    "from sklearn.linear_model import LogisticRegression\n",
    "from sklearn.metrics import classification_report\n",
    "from sklearn.naive_bayes import GaussianNB\n",
    "import warnings\n",
    "warnings.filterwarnings(\"ignore\")\n",
    "data = pd.read_csv(\"C:/Users/lenovo/Desktop/乳腺癌诊断数据集/wisc_bc_data.csv\")"
   ]
  },
  {
   "cell_type": "code",
   "execution_count": 2,
   "id": "79961122",
   "metadata": {},
   "outputs": [],
   "source": [
    "data.drop(\"id\",axis = 1,inplace=True)\n",
    "data['diagnosis'] = data['diagnosis'].replace(['M','B'],[1, 0])"
   ]
  },
  {
   "cell_type": "code",
   "execution_count": 7,
   "id": "2033aeeb",
   "metadata": {},
   "outputs": [
    {
     "name": "stdout",
     "output_type": "stream",
     "text": [
      "<class 'pandas.core.frame.DataFrame'>\n",
      "RangeIndex: 569 entries, 0 to 568\n",
      "Data columns (total 19 columns):\n",
      " #   Column                   Non-Null Count  Dtype  \n",
      "---  ------                   --------------  -----  \n",
      " 0   diagnosis                569 non-null    int64  \n",
      " 1   radius_mean              569 non-null    float64\n",
      " 2   texture_mean             569 non-null    float64\n",
      " 3   smoothness_mean          569 non-null    float64\n",
      " 4   concavity_mean           569 non-null    float64\n",
      " 5   symmetry_mean            569 non-null    float64\n",
      " 6   fractal_dimension_mean   569 non-null    float64\n",
      " 7   radius_se                569 non-null    float64\n",
      " 8   texture_se               569 non-null    float64\n",
      " 9   smoothness_se            569 non-null    float64\n",
      " 10  concavity_se             569 non-null    float64\n",
      " 11  symmetry_se              569 non-null    float64\n",
      " 12  fractal_dimension_se     569 non-null    float64\n",
      " 13  radius_worst             569 non-null    float64\n",
      " 14  texture_worst            569 non-null    float64\n",
      " 15  smoothness_worst         569 non-null    float64\n",
      " 16  concavity_worst          569 non-null    float64\n",
      " 17  symmetry_worst           569 non-null    float64\n",
      " 18  fractal_dimension_worst  569 non-null    float64\n",
      "dtypes: float64(18), int64(1)\n",
      "memory usage: 84.6 KB\n"
     ]
    }
   ],
   "source": [
    "columns_to_drop = [\"perimeter_mean\", \"perimeter_se\", \"perimeter_worst\", \"area_mean\", \"area_se\", \"area_worst\", \"compactness_mean\", \"compactness_se\", \"compactness_worst\", \"concave points_mean\", \"concave points_se\", \"concave points_worst\"]\n",
    "data_new = data.drop(columns_to_drop, axis=1)"
   ]
  },
  {
   "cell_type": "code",
   "execution_count": 8,
   "id": "fa4b6471",
   "metadata": {},
   "outputs": [
    {
     "name": "stdout",
     "output_type": "stream",
     "text": [
      "['radius_mean', 'texture_mean', 'smoothness_mean', 'concavity_mean', 'symmetry_mean', 'fractal_dimension_mean']\n",
      "['radius_se', 'texture_se', 'smoothness_se', 'concavity_se', 'symmetry_se', 'fractal_dimension_se']\n",
      "['radius_worst', 'texture_worst', 'smoothness_worst', 'concavity_worst', 'symmetry_worst', 'fractal_dimension_worst']\n"
     ]
    }
   ],
   "source": [
    "data_mean,data_se,data_worst = [],[],[]\n",
    "for feat in data_new.columns:\n",
    "    if \"mean\" in feat:\n",
    "        data_mean.append(feat)\n",
    "    elif \"se\" in feat:\n",
    "        data_se.append(feat)\n",
    "    elif \"worst\" in feat:\n",
    "        data_worst.append(feat)\n",
    "print(data_mean)\n",
    "print(data_se)\n",
    "print(data_worst)"
   ]
  },
  {
   "cell_type": "code",
   "execution_count": 9,
   "id": "db455684",
   "metadata": {},
   "outputs": [],
   "source": [
    "import math\n",
    "from sklearn.model_selection import train_test_split # 数据集划分\n",
    "from sklearn.linear_model import LogisticRegression # 逻辑回归\n",
    "from sklearn.metrics import mean_squared_error, classification_report # 均方误差,精确率和召回率"
   ]
  },
  {
   "cell_type": "code",
   "execution_count": 10,
   "id": "605915e4",
   "metadata": {},
   "outputs": [],
   "source": [
    "X = data_new[data_mean]\n",
    "y = data_new[\"diagnosis\"]\n",
    "train_x, test_x, train_y, test_y = train_test_split(X, y, test_size=0.2, random_state=0)"
   ]
  },
  {
   "cell_type": "code",
   "execution_count": 11,
   "id": "534ee5ec",
   "metadata": {},
   "outputs": [],
   "source": [
    "def confusion_matrix(y_true, y_pred):\n",
    "    tp = tn = fp = fn = 0\n",
    "    \n",
    "    for i in range(len(y_true)):\n",
    "        if y_true[i] == 1 and y_pred[i] == 1:\n",
    "            tp += 1\n",
    "        elif y_true[i] == 0 and y_pred[i] == 0:\n",
    "            tn += 1\n",
    "        elif y_true[i] == 0 and y_pred[i] == 1:\n",
    "            fp += 1\n",
    "        elif y_true[i] == 1 and y_pred[i] == 0:\n",
    "            fn += 1\n",
    "    \n",
    "    return [[tn, fp], [fn, tp]]"
   ]
  },
  {
   "cell_type": "code",
   "execution_count": 12,
   "id": "1d7862f9",
   "metadata": {},
   "outputs": [],
   "source": [
    "model_1 = GaussianNB()\n",
    "model_1.fit(train_x,train_y)\n",
    "y_predict = model_1.predict(test_x)"
   ]
  },
  {
   "cell_type": "code",
   "execution_count": 13,
   "id": "20426b45",
   "metadata": {},
   "outputs": [
    {
     "data": {
      "text/plain": [
       "[[64, 3], [5, 42]]"
      ]
     },
     "execution_count": 13,
     "metadata": {},
     "output_type": "execute_result"
    }
   ],
   "source": [
    "confusion_matrix(test_y.values, y_predict)"
   ]
  },
  {
   "cell_type": "code",
   "execution_count": 14,
   "id": "df188b67",
   "metadata": {},
   "outputs": [
    {
     "name": "stdout",
     "output_type": "stream",
     "text": [
      "0.9298245614035088\n"
     ]
    }
   ],
   "source": [
    "correct = np.count_nonzero((y_predict == test_y) == True)\n",
    "print(correct/len(test_x))"
   ]
  },
  {
   "cell_type": "code",
   "execution_count": 23,
   "id": "3d7d551d",
   "metadata": {},
   "outputs": [
    {
     "name": "stdout",
     "output_type": "stream",
     "text": [
      "              precision    recall  f1-score   support\n",
      "\n",
      "          良性       0.93      0.96      0.94        67\n",
      "          恶性       0.93      0.89      0.91        47\n",
      "\n",
      "    accuracy                           0.93       114\n",
      "   macro avg       0.93      0.92      0.93       114\n",
      "weighted avg       0.93      0.93      0.93       114\n",
      "\n"
     ]
    }
   ],
   "source": [
    "print(classification_report(test_y, y_predict, labels=[0,1], target_names=[\"良性\", \"恶性\"]))"
   ]
  },
  {
   "cell_type": "code",
   "execution_count": 18,
   "id": "f295afa7",
   "metadata": {},
   "outputs": [],
   "source": [
    "class NaiveBayes:\n",
    "    def __init__(self):\n",
    "        self.classes = None\n",
    "        self.class_probabilities = None\n",
    "        self.feature_probabilities = None\n",
    "\n",
    "    def fit(self, X, y):\n",
    "        self.classes = list(set(y))\n",
    "        self.class_probabilities = self.calculate_class_probabilities(y)\n",
    "        self.feature_probabilities = self.calculate_feature_probabilities(X, y)\n",
    "\n",
    "    def calculate_class_probabilities(self, y):\n",
    "        class_counts = {}\n",
    "        for label in y:\n",
    "            if label in class_counts:\n",
    "                class_counts[label] += 1\n",
    "            else:\n",
    "                class_counts[label] = 1\n",
    "\n",
    "        total_samples = len(y)\n",
    "        class_probabilities = {}\n",
    "        for label, count in class_counts.items():\n",
    "            class_probabilities[label] = count / total_samples\n",
    "\n",
    "        return class_probabilities\n",
    "\n",
    "    def calculate_feature_probabilities(self, X, y):\n",
    "        feature_probabilities = {}\n",
    "        for label in self.classes:\n",
    "            label_indices = [i for i, y_label in enumerate(y) if y_label == label]\n",
    "            label_features = [X[i] for i in label_indices]\n",
    "            feature_probabilities[label] = []\n",
    "            for feature in zip(*label_features):\n",
    "                mean = sum(feature) / len(feature)\n",
    "                variance = sum([(x - mean) ** 2 for x in feature]) / len(feature)\n",
    "                stdev = math.sqrt(variance)\n",
    "                feature_probabilities[label].append((mean, stdev))\n",
    "\n",
    "        return feature_probabilities\n",
    "\n",
    "    def gaussian_probability(self, x, mean, stdev):\n",
    "        exponent = math.exp(-(math.pow(x - mean, 2) / (2 * math.pow(stdev, 2))))\n",
    "        return (1 / (math.sqrt(2 * math.pi) * stdev)) * exponent\n",
    "\n",
    "    def calculate_probabilities(self, input_data):\n",
    "        probabilities = {}\n",
    "        for label in self.classes:\n",
    "            probabilities[label] = self.class_probabilities[label]\n",
    "            for i, value in enumerate(input_data):\n",
    "                mean, stdev = self.feature_probabilities[label][i]\n",
    "                probabilities[label] *= self.gaussian_probability(value, mean, stdev)\n",
    "\n",
    "        return probabilities\n",
    "\n",
    "    def predict(self, X):\n",
    "        predicted_labels = []\n",
    "        for input_data in X:\n",
    "            probabilities = self.calculate_probabilities(input_data)\n",
    "            predicted_label = max(probabilities, key=probabilities.get)\n",
    "            predicted_labels.append(predicted_label)\n",
    "        return predicted_labels"
   ]
  },
  {
   "cell_type": "code",
   "execution_count": 19,
   "id": "8ce484c4",
   "metadata": {},
   "outputs": [],
   "source": [
    "model_2 = NaiveBayes()\n",
    "model_2.fit(train_x.values, train_y)\n",
    "y_predict_2 = model_2.predict(test_x.values)"
   ]
  },
  {
   "cell_type": "code",
   "execution_count": 20,
   "id": "b08d5795",
   "metadata": {},
   "outputs": [
    {
     "name": "stdout",
     "output_type": "stream",
     "text": [
      "0.9298245614035088\n"
     ]
    }
   ],
   "source": [
    "correct = np.count_nonzero((y_predict_2 == test_y) == True)\n",
    "print(correct/len(test_x))"
   ]
  },
  {
   "cell_type": "code",
   "execution_count": 21,
   "id": "10c969f3",
   "metadata": {},
   "outputs": [
    {
     "data": {
      "text/plain": [
       "[[64, 3], [5, 42]]"
      ]
     },
     "execution_count": 21,
     "metadata": {},
     "output_type": "execute_result"
    }
   ],
   "source": [
    "confusion_matrix(test_y.values, y_predict_2)"
   ]
  },
  {
   "cell_type": "code",
   "execution_count": 24,
   "id": "d1304bba",
   "metadata": {},
   "outputs": [
    {
     "name": "stdout",
     "output_type": "stream",
     "text": [
      "              precision    recall  f1-score   support\n",
      "\n",
      "          良性       0.93      0.96      0.94        67\n",
      "          恶性       0.93      0.89      0.91        47\n",
      "\n",
      "    accuracy                           0.93       114\n",
      "   macro avg       0.93      0.92      0.93       114\n",
      "weighted avg       0.93      0.93      0.93       114\n",
      "\n"
     ]
    }
   ],
   "source": [
    "print(classification_report(test_y, y_predict_2, labels=[0,1], target_names=[\"良性\", \"恶性\"]))"
   ]
  },
  {
   "cell_type": "code",
   "execution_count": 25,
   "id": "e7e3d382",
   "metadata": {},
   "outputs": [
    {
     "data": {
      "image/png": "[encoded data removed]",
      "text/plain": [
       "<Figure size 640x480 with 1 Axes>"
      ]
     },
     "metadata": {},
     "output_type": "display_data"
    }
   ],
   "source": [
    "import matplotlib.pyplot as plt\n",
    "from sklearn.metrics import roc_curve, auc\n",
    "y_pred_proba = model_1.predict_proba(test_x)[:, 1]\n",
    "\n",
    "# 计算假正率（FPR）和真正率（TPR）\n",
    "fpr, tpr, thresholds = roc_curve(test_y, y_pred_proba)\n",
    "\n",
    "# 计算AUC值\n",
    "roc_auc = auc(fpr, tpr)\n",
    "\n",
    "# 绘制ROC曲线\n",
    "plt.figure()\n",
    "plt.plot(fpr, tpr, color='darkorange', lw=2, label='ROC curve (area = %0.2f)' % roc_auc)\n",
    "plt.plot([0, 1], [0, 1], color='navy', lw=2, linestyle='--')\n",
    "plt.xlim([0.0, 1.0])\n",
    "plt.ylim([0.0, 1.05])\n",
    "plt.xlabel('False Positive Rate')\n",
    "plt.ylabel('True Positive Rate')\n",
    "plt.title('Receiver Operating Characteristic')\n",
    "plt.legend(loc=\"lower right\")\n",
    "plt.show()"
   ]
  }
 ],
 "metadata": {
  "kernelspec": {
   "display_name": "Python 3 (ipykernel)",
   "language": "python",
   "name": "python3"
  },
  "language_info": {
   "codemirror_mode": {
    "name": "ipython",
    "version": 3
   },
   "file_extension": ".py",
   "mimetype": "text/x-python",
   "name": "python",
   "nbconvert_exporter": "python",
   "pygments_lexer": "ipython3",
   "version": "3.11.3"
  }
 },
 "nbformat": 4,
 "nbformat_minor": 5
}
